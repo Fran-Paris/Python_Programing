{
 "cells": [
  {
   "cell_type": "markdown",
   "metadata": {},
   "source": [
    "## Lesson 2 Basic Data Type\n"
   ]
  },
  {
   "cell_type": "markdown",
   "metadata": {},
   "source": [
    "| Data Type | Variable | Def |\n",
    "| :- | -: | :-: |\n",
    "| Integer | 5 | Whole number\n",
    "| Float-point | 5.1 | Number with decimal point |\n",
    "| Complex number | 45 + 45j | Real part + imaginary part |\n",
    "| String | \"Hola Mundo\" | Sequences of character |\n",
    "| Boolean | True / False | Condition |\n"
   ]
  },
  {
   "cell_type": "code",
   "execution_count": 16,
   "metadata": {},
   "outputs": [
    {
     "name": "stdout",
     "output_type": "stream",
     "text": [
      "5\n"
     ]
    },
    {
     "data": {
      "text/plain": [
       "5"
      ]
     },
     "execution_count": 16,
     "metadata": {},
     "output_type": "execute_result"
    }
   ],
   "source": [
    "# Code Process\n",
    "\n",
    "#Input\n",
    "print(2+3)\n",
    "\n",
    "# Output\n",
    "5\n"
   ]
  },
  {
   "cell_type": "markdown",
   "metadata": {},
   "source": [
    "### Number data type"
   ]
  },
  {
   "cell_type": "markdown",
   "metadata": {},
   "source": [
    "#### Integer"
   ]
  },
  {
   "cell_type": "markdown",
   "metadata": {},
   "source": [
    "* Positive and negative whole numbers (including 0)\n",
    "* No limit to length of an integer value\n",
    "* Can be used for standard addition, subtraction, division and multiplication operations in Python"
   ]
  },
  {
   "cell_type": "code",
   "execution_count": 17,
   "metadata": {},
   "outputs": [
    {
     "name": "stdout",
     "output_type": "stream",
     "text": [
      "Adition\n",
      "5\n",
      "Subtraction\n",
      "-1\n",
      "Division\n",
      "2.0\n",
      "Multiplication\n",
      "6\n"
     ]
    }
   ],
   "source": [
    "# Addition\n",
    "print(\"Adition\")\n",
    "print(2+3)\n",
    "\n",
    "#Subtraction\n",
    "print(\"Subtraction\")\n",
    "print(2-3)\n",
    "\n",
    "#Division\n",
    "print(\"Division\")\n",
    "print(4/2)\n",
    "\n",
    "#Multipolication\n",
    "print(\"Multiplication\")\n",
    "print(2*3)\n"
   ]
  },
  {
   "cell_type": "code",
   "execution_count": 18,
   "metadata": {},
   "outputs": [
    {
     "name": "stdout",
     "output_type": "stream",
     "text": [
      "<class 'int'>\n",
      "True\n"
     ]
    }
   ],
   "source": [
    "## Type function and class\n",
    "\n",
    "# Type()Function\n",
    "print(type(4))\n",
    "\n",
    "# Class\n",
    "print(isinstance(4,int))\n"
   ]
  },
  {
   "cell_type": "markdown",
   "metadata": {},
   "source": [
    "#### Floating-point numbers"
   ]
  },
  {
   "cell_type": "markdown",
   "metadata": {},
   "source": [
    "* Numbers are values with decimal point"
   ]
  },
  {
   "cell_type": "code",
   "execution_count": 23,
   "metadata": {},
   "outputs": [
    {
     "name": "stdout",
     "output_type": "stream",
     "text": [
      "<class 'float'>\n",
      "True\n",
      "False\n"
     ]
    }
   ],
   "source": [
    "## Type and class\n",
    "\n",
    "print(type(5.1))\n",
    "\n",
    "print(isinstance(5.1,float))\n",
    "\n",
    "print(isinstance(5.0,int))"
   ]
  },
  {
   "cell_type": "markdown",
   "metadata": {},
   "source": [
    "#### Complex numbers"
   ]
  },
  {
   "cell_type": "markdown",
   "metadata": {},
   "source": [
    "* Complex number aare represented as < Real part > + < imaginary part >, where the real and imaginary are real numbers"
   ]
  },
  {
   "cell_type": "code",
   "execution_count": 24,
   "metadata": {},
   "outputs": [
    {
     "name": "stdout",
     "output_type": "stream",
     "text": [
      "<class 'complex'>\n"
     ]
    }
   ],
   "source": [
    "#Type\n",
    "\n",
    "print(type(2+3j))\n"
   ]
  },
  {
   "cell_type": "markdown",
   "metadata": {},
   "source": [
    "### String data type"
   ]
  },
  {
   "cell_type": "markdown",
   "metadata": {},
   "source": [
    "#### String simple, doble, triple quotes"
   ]
  },
  {
   "cell_type": "markdown",
   "metadata": {},
   "source": [
    "* Sequences of character data\n",
    "* Immutable\n",
    "* Represented by single or double quote\n",
    "* Triple quotes for multi-line string"
   ]
  },
  {
   "cell_type": "code",
   "execution_count": 31,
   "metadata": {},
   "outputs": [
    {
     "name": "stdout",
     "output_type": "stream",
     "text": [
      "I am string with simple quote\n",
      "<class 'str'>\n",
      "I am string \n",
      "      with simple \n",
      "      quote\n",
      "<class 'str'>\n"
     ]
    }
   ],
   "source": [
    "## Simple / Doble quote\n",
    "\n",
    "print('I am string with simple quote')\n",
    "print(type('I am string with simple quote'))\n",
    "\n",
    "## Triple quote\n",
    "\n",
    "print('''I am string \n",
    "      with simple \n",
    "      quote''')\n",
    "\n",
    "\n",
    "print(type(('''I am string \n",
    "      with simple \n",
    "      quote''')))\n"
   ]
  },
  {
   "cell_type": "markdown",
   "metadata": {},
   "source": [
    "### Boolean data type"
   ]
  },
  {
   "cell_type": "markdown",
   "metadata": {},
   "source": [
    "* Object have TRUE or FALSE value"
   ]
  },
  {
   "cell_type": "code",
   "execution_count": null,
   "metadata": {},
   "outputs": [],
   "source": [
    "#Data type boolean\n",
    "\n",
    "print(type(True))\n"
   ]
  },
  {
   "cell_type": "markdown",
   "metadata": {},
   "source": [
    "### Convert between different type"
   ]
  },
  {
   "cell_type": "code",
   "execution_count": 35,
   "metadata": {},
   "outputs": [
    {
     "name": "stdout",
     "output_type": "stream",
     "text": [
      "5\n",
      "<class 'int'>\n",
      "5.0\n",
      "<class 'float'>\n",
      "5.5\n",
      "<class 'float'>\n",
      "5\n",
      "<class 'int'>\n",
      "5\n",
      "<class 'str'>\n"
     ]
    }
   ],
   "source": [
    "# INT to FLOAT\n",
    "\n",
    "a=5\n",
    "print (a)\n",
    "print(type(a))\n",
    "\n",
    "a=float(a)\n",
    "print (a)\n",
    "print(type(a))\n",
    "\n",
    "#Float to INT (Truncate)\n",
    "\n",
    "b=5.5\n",
    "print (b)\n",
    "print(type(b))\n",
    "\n",
    "b=int(b)\n",
    "print (b)\n",
    "print(type(b))\n",
    "\n",
    "#String data\n",
    "\n",
    "b=str(b)\n",
    "print(b)\n",
    "print(type(b))\n",
    "\n"
   ]
  }
 ],
 "metadata": {
  "kernelspec": {
   "display_name": "Python 3",
   "language": "python",
   "name": "python3"
  },
  "language_info": {
   "codemirror_mode": {
    "name": "ipython",
    "version": 3
   },
   "file_extension": ".py",
   "mimetype": "text/x-python",
   "name": "python",
   "nbconvert_exporter": "python",
   "pygments_lexer": "ipython3",
   "version": "3.11.1"
  }
 },
 "nbformat": 4,
 "nbformat_minor": 2
}
