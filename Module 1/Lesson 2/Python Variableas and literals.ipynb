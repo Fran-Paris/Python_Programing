{
 "cells": [
  {
   "cell_type": "markdown",
   "metadata": {},
   "source": [
    "# Python variables and literals"
   ]
  },
  {
   "cell_type": "markdown",
   "metadata": {},
   "source": [
    "## Variable definition"
   ]
  },
  {
   "cell_type": "markdown",
   "metadata": {},
   "source": [
    "**Variable** = A variable is a named location with memory that stores data"
   ]
  },
  {
   "cell_type": "markdown",
   "metadata": {},
   "source": [
    "You can change the value, type of the variable"
   ]
  },
  {
   "cell_type": "code",
   "execution_count": 4,
   "metadata": {},
   "outputs": [
    {
     "name": "stdout",
     "output_type": "stream",
     "text": [
      "5\n",
      "<class 'int'>\n",
      "10\n",
      "<class 'int'>\n",
      "10.1\n",
      "<class 'float'>\n",
      "Smith\n",
      "<class 'str'>\n"
     ]
    }
   ],
   "source": [
    "#Crear una nueva variable\n",
    "\n",
    "num= 5\n",
    "print(num)\n",
    "print(type(num))\n",
    "\n",
    "#Cambiar valor de la varianble\n",
    "\n",
    "num= 10\n",
    "print(num)\n",
    "print(type(num))\n",
    "\n",
    "#Cambiar el tipo de varianle\n",
    "\n",
    "num= 10.10\n",
    "print(num)\n",
    "print(type(num))\n",
    "\n",
    "num= \"Smith\"\n",
    "print(num)\n",
    "print(type(num))\n",
    "\n"
   ]
  },
  {
   "cell_type": "markdown",
   "metadata": {},
   "source": [
    "Also you can assign the same value to multiple variables, or diferent value for each variable-"
   ]
  },
  {
   "cell_type": "code",
   "execution_count": 16,
   "metadata": {},
   "outputs": [
    {
     "name": "stdout",
     "output_type": "stream",
     "text": [
      "5\n",
      "5\n",
      "5\n",
      "15\n",
      "Smith\n",
      "10000\n"
     ]
    }
   ],
   "source": [
    "age = name = salary = 5\n",
    "print (age)\n",
    "print (name)\n",
    "print (salary)\n",
    "\n",
    "age, name, salary = 15,\"Smith\",10000\n",
    "print (age)\n",
    "print (name)\n",
    "print (salary)\n"
   ]
  },
  {
   "cell_type": "markdown",
   "metadata": {},
   "source": [
    "## 6 Rules to remember when naming your variables"
   ]
  },
  {
   "cell_type": "markdown",
   "metadata": {},
   "source": [
    "1. Variables should habe a combinatoion of letters in uppercase , or lowercase, or Numbers, or underscore (_)\n",
    "\n",
    "    Lucky_Number\n",
    "    luckynumber\n",
    "    Luckynumber    \n",
    "    luckyNumber"
   ]
  },
  {
   "cell_type": "markdown",
   "metadata": {},
   "source": [
    "2. Variables name should make sense. Ex\n",
    "    age = 77 it's betther then a =77 y we stored ages\n",
    "    "
   ]
  },
  {
   "cell_type": "markdown",
   "metadata": {},
   "source": [
    "3. Varible names with two words must include an underscore to separate the words.\n",
    "\n",
    "    Lucky_Number = 13"
   ]
  },
  {
   "cell_type": "markdown",
   "metadata": {},
   "source": [
    "4. Variable names are case sensitive: \n",
    "    Lucky-number is a different variable that lucky-number"
   ]
  },
  {
   "cell_type": "markdown",
   "metadata": {},
   "source": [
    "5. Variable names should never strart with a digit\n",
    "    94_Year\n",
    "    96_Year\n",
    "    4people"
   ]
  },
  {
   "cell_type": "markdown",
   "metadata": {},
   "source": [
    "6. Varianle names should never include characters such as @,!,#...."
   ]
  },
  {
   "cell_type": "markdown",
   "metadata": {},
   "source": [
    "## Object Identity"
   ]
  },
  {
   "cell_type": "markdown",
   "metadata": {},
   "source": [
    "Every variable hav an identity number"
   ]
  },
  {
   "cell_type": "code",
   "execution_count": 19,
   "metadata": {},
   "outputs": [
    {
     "name": "stdout",
     "output_type": "stream",
     "text": [
      "10\n",
      "140723701408840\n"
     ]
    }
   ],
   "source": [
    "num=10\n",
    "print(10)\n",
    "print(id(num))\n",
    "\n"
   ]
  }
 ],
 "metadata": {
  "kernelspec": {
   "display_name": "Python 3",
   "language": "python",
   "name": "python3"
  },
  "language_info": {
   "codemirror_mode": {
    "name": "ipython",
    "version": 3
   },
   "file_extension": ".py",
   "mimetype": "text/x-python",
   "name": "python",
   "nbconvert_exporter": "python",
   "pygments_lexer": "ipython3",
   "version": "3.11.1"
  }
 },
 "nbformat": 4,
 "nbformat_minor": 2
}
