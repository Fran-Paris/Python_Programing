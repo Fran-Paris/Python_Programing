{
 "cells": [
  {
   "cell_type": "markdown",
   "metadata": {},
   "source": [
    "# Python variables and literals"
   ]
  },
  {
   "cell_type": "markdown",
   "metadata": {},
   "source": [
    "## Variable definition"
   ]
  },
  {
   "cell_type": "markdown",
   "metadata": {},
   "source": [
    "**Variable** = A variable is a named location with memory that stores data"
   ]
  },
  {
   "cell_type": "markdown",
   "metadata": {},
   "source": [
    "You can change the value, type of the variable"
   ]
  },
  {
   "cell_type": "code",
   "execution_count": 2,
   "metadata": {},
   "outputs": [
    {
     "name": "stdout",
     "output_type": "stream",
     "text": [
      "5\n",
      "<class 'int'>\n",
      "10\n",
      "<class 'int'>\n",
      "10.1\n",
      "<class 'float'>\n",
      "Smith\n",
      "<class 'str'>\n"
     ]
    }
   ],
   "source": [
    "#Crear una nueva variable\n",
    "\n",
    "num= 5\n",
    "print(num)\n",
    "print(type(num))\n",
    "\n",
    "#Cambiar valor de la varianble\n",
    "\n",
    "num= 10\n",
    "print(num)\n",
    "print(type(num))\n",
    "\n",
    "#Cambiar el tipo de varianle\n",
    "\n",
    "num= 10.10\n",
    "print(num)\n",
    "print(type(num))\n",
    "\n",
    "num= \"Smith\"\n",
    "print(num)\n",
    "print(type(num))\n",
    "\n"
   ]
  },
  {
   "cell_type": "markdown",
   "metadata": {},
   "source": [
    "Also you can assign the same value to multiple variables, or diferent value for each variable-"
   ]
  },
  {
   "cell_type": "code",
   "execution_count": 3,
   "metadata": {},
   "outputs": [
    {
     "name": "stdout",
     "output_type": "stream",
     "text": [
      "5\n",
      "5\n",
      "5\n",
      "15\n",
      "Smith\n",
      "10000\n"
     ]
    }
   ],
   "source": [
    "age = name = salary = 5\n",
    "print (age)\n",
    "print (name)\n",
    "print (salary)\n",
    "\n",
    "age, name, salary = 15,\"Smith\",10000\n",
    "print (age)\n",
    "print (name)\n",
    "print (salary)\n"
   ]
  },
  {
   "cell_type": "markdown",
   "metadata": {},
   "source": [
    "## 6 Rules to remember when naming your variables"
   ]
  },
  {
   "cell_type": "markdown",
   "metadata": {},
   "source": [
    "1. Variables should habe a combinatoion of letters in uppercase , or lowercase, or Numbers, or underscore (_)\n",
    "\n",
    "    Lucky_Number\n",
    "    luckynumber\n",
    "    Luckynumber    \n",
    "    luckyNumber"
   ]
  },
  {
   "cell_type": "markdown",
   "metadata": {},
   "source": [
    "2. Variables name should make sense. Ex\n",
    "    age = 77 it's betther then a =77 y we stored ages\n",
    "    "
   ]
  },
  {
   "cell_type": "markdown",
   "metadata": {},
   "source": [
    "3. Varible names with two words must include an underscore to separate the words.\n",
    "\n",
    "    Lucky_Number = 13"
   ]
  },
  {
   "cell_type": "markdown",
   "metadata": {},
   "source": [
    "4. Variable names are case sensitive: \n",
    "    Lucky-number is a different variable that lucky-number"
   ]
  },
  {
   "cell_type": "markdown",
   "metadata": {},
   "source": [
    "5. Variable names should never strart with a digit\n",
    "    94_Year\n",
    "    96_Year\n",
    "    4people"
   ]
  },
  {
   "cell_type": "markdown",
   "metadata": {},
   "source": [
    "6. Varianle names should never include characters such as @,!,#...."
   ]
  },
  {
   "cell_type": "markdown",
   "metadata": {},
   "source": [
    "## Object Identity"
   ]
  },
  {
   "cell_type": "markdown",
   "metadata": {},
   "source": [
    "Every variable have an identity number"
   ]
  },
  {
   "cell_type": "code",
   "execution_count": 4,
   "metadata": {},
   "outputs": [
    {
     "name": "stdout",
     "output_type": "stream",
     "text": [
      "10\n",
      "140723633710152\n"
     ]
    }
   ],
   "source": [
    "num=10\n",
    "print(10)\n",
    "print(id(num))\n",
    "\n"
   ]
  },
  {
   "cell_type": "markdown",
   "metadata": {},
   "source": [
    "## What is a literal"
   ]
  },
  {
   "cell_type": "markdown",
   "metadata": {},
   "source": [
    "A literal is raw data given in variable or constant."
   ]
  },
  {
   "cell_type": "markdown",
   "metadata": {},
   "source": [
    "### Numeric literals\n",
    "\n",
    "* Integer\n",
    "* Float\n",
    "* Complex"
   ]
  },
  {
   "cell_type": "markdown",
   "metadata": {},
   "source": [
    "### Integer literal\n",
    "\n",
    "* Binary litrearl\n",
    "* Decimal literal\n",
    "* Octal literal\n",
    "* Hexadecimal literal\n"
   ]
  },
  {
   "cell_type": "code",
   "execution_count": 10,
   "metadata": {},
   "outputs": [
    {
     "name": "stdout",
     "output_type": "stream",
     "text": [
      "Integer literal\n",
      "10\n",
      "100\n",
      "200\n",
      "300\n",
      "Float literal\n",
      "2.5\n",
      "Complex literal\n",
      "(2+3.4j)\n",
      "string\n",
      "Im a string literal\n",
      "boolean literal\n",
      "True\n"
     ]
    }
   ],
   "source": [
    "# Input literal\n",
    "\n",
    "print(\"Integer literal\")\n",
    "\n",
    "binary_literal = 0b1010\n",
    "decimal_literal= 100\n",
    "Octal_lietral = 0o310\n",
    "hexa_decimal = 0x12c\n",
    "\n",
    "print(binary_literal)\n",
    "print(decimal_literal)\n",
    "print(Octal_lietral)\n",
    "print(hexa_decimal)\n",
    "\n",
    "print(\"Float literal\")\n",
    "\n",
    "float_literal = 2.5\n",
    "print(float_literal)\n",
    "\n",
    "print(\"Complex literal\")\n",
    "complex_literal = 2+3.4j\n",
    "print(complex_literal)\n",
    "\n",
    "print(\"string\")\n",
    "print(\"Im a string literal\")\n",
    "\n",
    "print(\"boolean literal\")\n",
    "boolean_literal=True\n",
    "print(boolean_literal)\n",
    "\n",
    "\n",
    "\n",
    "\n"
   ]
  },
  {
   "cell_type": "markdown",
   "metadata": {},
   "source": [
    "## Python Staments"
   ]
  },
  {
   "cell_type": "markdown",
   "metadata": {},
   "source": [
    "Python Staments is an instruction that a Python interpreter can execute"
   ]
  },
  {
   "cell_type": "markdown",
   "metadata": {},
   "source": [
    "###  Multi line statementes\n",
    "\n",
    "You can choose to extend the Python statement onto the next line or over multiple lines by using a line contituation character"
   ]
  },
  {
   "cell_type": "code",
   "execution_count": 28,
   "metadata": {},
   "outputs": [
    {
     "name": "stdout",
     "output_type": "stream",
     "text": [
      "Programa continuo\n",
      "21\n",
      "Programa separado con (\\) \n",
      "28\n"
     ]
    }
   ],
   "source": [
    "# You can run a program like\n",
    "\n",
    "print(\"Programa continuo\")\n",
    "num = 1+2+3+4+5+6\n",
    "print(num)\n",
    "\n",
    "print(\"Programa separado con (\\) \")\n",
    "      \n",
    "num = 1+2+\\\n",
    "    3+4+\\\n",
    "    5+6+7\n",
    "print(num)"
   ]
  },
  {
   "cell_type": "markdown",
   "metadata": {},
   "source": [
    "Also you can use to extend the Python statement the parenthesis : ( ) ; [ ] ; { }\n"
   ]
  },
  {
   "cell_type": "code",
   "execution_count": 34,
   "metadata": {},
   "outputs": [
    {
     "name": "stdout",
     "output_type": "stream",
     "text": [
      "Programa separado con () \n",
      "28\n",
      "Programa separado con [] \n",
      "[28]\n",
      "Programa separado con {} \n",
      "{28}\n"
     ]
    }
   ],
   "source": [
    "print(\"Programa separado con () \")\n",
    "      \n",
    "num = (1+2+\n",
    "    3+4+\n",
    "    5+6+7)\n",
    "print(num)\n",
    "\n",
    "print(\"Programa separado con [] \")\n",
    "      \n",
    "num = [1+2+\n",
    "    3+4+\n",
    "    5+6+7]\n",
    "print(num)\n",
    "\n",
    "print(\"Programa separado con {} \")\n",
    "      \n",
    "num = {1+2+\n",
    "    3+4+\n",
    "    5+6+7}\n",
    "print(num)"
   ]
  },
  {
   "cell_type": "markdown",
   "metadata": {},
   "source": [
    "## Python Identation"
   ]
  },
  {
   "cell_type": "markdown",
   "metadata": {},
   "source": [
    "Python uses idetation to define and write a code block"
   ]
  },
  {
   "cell_type": "code",
   "execution_count": 47,
   "metadata": {},
   "outputs": [
    {
     "name": "stdout",
     "output_type": "stream",
     "text": [
      "10\n",
      "10\n"
     ]
    }
   ],
   "source": [
    "#Multi line statements\n",
    "\n",
    "if True:\n",
    "    num=10\n",
    "    print(num)\n",
    "\n",
    "#Unic line\n",
    "\n",
    "if True: num=10; print(num)\n"
   ]
  },
  {
   "cell_type": "code",
   "execution_count": 48,
   "metadata": {},
   "outputs": [],
   "source": [
    "#You can add comment with \n",
    "  # Un line\n",
    "\n",
    "### Con esto puedo hacer\n",
    "# multiples lineas\n",
    "# de solo comentarios\n",
    "# de forma automática ###\n",
    "\n",
    "\n"
   ]
  }
 ],
 "metadata": {
  "kernelspec": {
   "display_name": "Python 3",
   "language": "python",
   "name": "python3"
  },
  "language_info": {
   "codemirror_mode": {
    "name": "ipython",
    "version": 3
   },
   "file_extension": ".py",
   "mimetype": "text/x-python",
   "name": "python",
   "nbconvert_exporter": "python",
   "pygments_lexer": "ipython3",
   "version": "3.11.1"
  }
 },
 "nbformat": 4,
 "nbformat_minor": 2
}
